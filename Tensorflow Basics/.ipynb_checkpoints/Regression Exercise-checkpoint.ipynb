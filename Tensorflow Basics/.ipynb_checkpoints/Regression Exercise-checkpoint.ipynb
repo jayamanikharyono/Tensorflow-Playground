{
 "cells": [
  {
   "cell_type": "markdown",
   "metadata": {},
   "source": [
    "# Regression Exercise"
   ]
  },
  {
   "cell_type": "code",
   "execution_count": 20,
   "metadata": {},
   "outputs": [
    {
     "name": "stderr",
     "output_type": "stream",
     "text": [
      "C:\\Users\\Jayuk\\Anaconda3\\lib\\site-packages\\h5py\\__init__.py:36: FutureWarning: Conversion of the second argument of issubdtype from `float` to `np.floating` is deprecated. In future, it will be treated as `np.float64 == np.dtype(float).type`.\n",
      "  from ._conv import register_converters as _register_converters\n"
     ]
    }
   ],
   "source": [
    "import pandas as pd\n",
    "import tensorflow as tf\n",
    "from sklearn.preprocessing import MinMaxScaler\n",
    "from sklearn.model_selection import train_test_split"
   ]
  },
  {
   "cell_type": "code",
   "execution_count": 2,
   "metadata": {},
   "outputs": [],
   "source": [
    "housing = pd.read_csv('cal_housing_clean.csv')"
   ]
  },
  {
   "cell_type": "code",
   "execution_count": 5,
   "metadata": {},
   "outputs": [
    {
     "data": {
      "text/html": [
       "<div>\n",
       "<style scoped>\n",
       "    .dataframe tbody tr th:only-of-type {\n",
       "        vertical-align: middle;\n",
       "    }\n",
       "\n",
       "    .dataframe tbody tr th {\n",
       "        vertical-align: top;\n",
       "    }\n",
       "\n",
       "    .dataframe thead th {\n",
       "        text-align: right;\n",
       "    }\n",
       "</style>\n",
       "<table border=\"1\" class=\"dataframe\">\n",
       "  <thead>\n",
       "    <tr style=\"text-align: right;\">\n",
       "      <th></th>\n",
       "      <th>housingMedianAge</th>\n",
       "      <th>totalRooms</th>\n",
       "      <th>totalBedrooms</th>\n",
       "      <th>population</th>\n",
       "      <th>households</th>\n",
       "      <th>medianIncome</th>\n",
       "      <th>medianHouseValue</th>\n",
       "    </tr>\n",
       "  </thead>\n",
       "  <tbody>\n",
       "    <tr>\n",
       "      <th>0</th>\n",
       "      <td>41.0</td>\n",
       "      <td>880.0</td>\n",
       "      <td>129.0</td>\n",
       "      <td>322.0</td>\n",
       "      <td>126.0</td>\n",
       "      <td>8.3252</td>\n",
       "      <td>452600.0</td>\n",
       "    </tr>\n",
       "    <tr>\n",
       "      <th>1</th>\n",
       "      <td>21.0</td>\n",
       "      <td>7099.0</td>\n",
       "      <td>1106.0</td>\n",
       "      <td>2401.0</td>\n",
       "      <td>1138.0</td>\n",
       "      <td>8.3014</td>\n",
       "      <td>358500.0</td>\n",
       "    </tr>\n",
       "    <tr>\n",
       "      <th>2</th>\n",
       "      <td>52.0</td>\n",
       "      <td>1467.0</td>\n",
       "      <td>190.0</td>\n",
       "      <td>496.0</td>\n",
       "      <td>177.0</td>\n",
       "      <td>7.2574</td>\n",
       "      <td>352100.0</td>\n",
       "    </tr>\n",
       "    <tr>\n",
       "      <th>3</th>\n",
       "      <td>52.0</td>\n",
       "      <td>1274.0</td>\n",
       "      <td>235.0</td>\n",
       "      <td>558.0</td>\n",
       "      <td>219.0</td>\n",
       "      <td>5.6431</td>\n",
       "      <td>341300.0</td>\n",
       "    </tr>\n",
       "    <tr>\n",
       "      <th>4</th>\n",
       "      <td>52.0</td>\n",
       "      <td>1627.0</td>\n",
       "      <td>280.0</td>\n",
       "      <td>565.0</td>\n",
       "      <td>259.0</td>\n",
       "      <td>3.8462</td>\n",
       "      <td>342200.0</td>\n",
       "    </tr>\n",
       "  </tbody>\n",
       "</table>\n",
       "</div>"
      ],
      "text/plain": [
       "   housingMedianAge  totalRooms  totalBedrooms  population  households  \\\n",
       "0              41.0       880.0          129.0       322.0       126.0   \n",
       "1              21.0      7099.0         1106.0      2401.0      1138.0   \n",
       "2              52.0      1467.0          190.0       496.0       177.0   \n",
       "3              52.0      1274.0          235.0       558.0       219.0   \n",
       "4              52.0      1627.0          280.0       565.0       259.0   \n",
       "\n",
       "   medianIncome  medianHouseValue  \n",
       "0        8.3252          452600.0  \n",
       "1        8.3014          358500.0  \n",
       "2        7.2574          352100.0  \n",
       "3        5.6431          341300.0  \n",
       "4        3.8462          342200.0  "
      ]
     },
     "execution_count": 5,
     "metadata": {},
     "output_type": "execute_result"
    }
   ],
   "source": [
    "housing.head(5)"
   ]
  },
  {
   "cell_type": "code",
   "execution_count": 6,
   "metadata": {},
   "outputs": [],
   "source": [
    "X = housing.drop(['medianHouseValue'], axis=1)"
   ]
  },
  {
   "cell_type": "code",
   "execution_count": 7,
   "metadata": {},
   "outputs": [],
   "source": [
    "Y = housing['medianHouseValue']"
   ]
  },
  {
   "cell_type": "code",
   "execution_count": 13,
   "metadata": {},
   "outputs": [],
   "source": [
    "X_train, X_test, Y_train, Y_test = train_test_split(X,Y,test_size=0.3,random_state=101)"
   ]
  },
  {
   "cell_type": "code",
   "execution_count": 15,
   "metadata": {},
   "outputs": [],
   "source": [
    "scaler = MinMaxScaler()"
   ]
  },
  {
   "cell_type": "code",
   "execution_count": 16,
   "metadata": {},
   "outputs": [
    {
     "data": {
      "text/plain": [
       "MinMaxScaler(copy=True, feature_range=(0, 1))"
      ]
     },
     "execution_count": 16,
     "metadata": {},
     "output_type": "execute_result"
    }
   ],
   "source": [
    "scaler.fit(X_train)"
   ]
  },
  {
   "cell_type": "code",
   "execution_count": 17,
   "metadata": {},
   "outputs": [],
   "source": [
    "X_train = pd.DataFrame(data=scaler.transform(X_train),columns = X_train.columns,index=X_train.index)"
   ]
  },
  {
   "cell_type": "code",
   "execution_count": 18,
   "metadata": {},
   "outputs": [],
   "source": [
    "X_test = pd.DataFrame(data=scaler.transform(X_test),columns = X_test.columns,index=X_test.index)"
   ]
  },
  {
   "cell_type": "code",
   "execution_count": 19,
   "metadata": {},
   "outputs": [
    {
     "data": {
      "text/plain": [
       "Index(['housingMedianAge', 'totalRooms', 'totalBedrooms', 'population',\n",
       "       'households', 'medianIncome', 'medianHouseValue'],\n",
       "      dtype='object')"
      ]
     },
     "execution_count": 19,
     "metadata": {},
     "output_type": "execute_result"
    }
   ],
   "source": [
    "housing.columns"
   ]
  },
  {
   "cell_type": "code",
   "execution_count": 24,
   "metadata": {},
   "outputs": [],
   "source": [
    "age = tf.feature_column.numeric_column('housingMedianAge')\n",
    "rooms = tf.feature_column.numeric_column('totalRooms')\n",
    "bedrooms = tf.feature_column.numeric_column('totalBedrooms')\n",
    "pop = tf.feature_column.numeric_column('population')\n",
    "households = tf.feature_column.numeric_column('households')\n",
    "income = tf.feature_column.numeric_column('medianIncome')"
   ]
  },
  {
   "cell_type": "code",
   "execution_count": 25,
   "metadata": {},
   "outputs": [],
   "source": [
    "feat_cols = [ age,rooms,bedrooms,pop,households,income]"
   ]
  },
  {
   "cell_type": "code",
   "execution_count": 27,
   "metadata": {},
   "outputs": [],
   "source": [
    "input_func = tf.estimator.inputs.pandas_input_fn(\n",
    "    x=X_train,\n",
    "    y=Y_train ,\n",
    "    batch_size=10,\n",
    "    num_epochs=1000,\n",
    "    shuffle=True)"
   ]
  },
  {
   "cell_type": "code",
   "execution_count": 28,
   "metadata": {},
   "outputs": [
    {
     "name": "stdout",
     "output_type": "stream",
     "text": [
      "INFO:tensorflow:Using default config.\n",
      "WARNING:tensorflow:Using temporary folder as model directory: C:\\Users\\Jayuk\\AppData\\Local\\Temp\\tmp09l4d42q\n",
      "INFO:tensorflow:Using config: {'_model_dir': 'C:\\\\Users\\\\Jayuk\\\\AppData\\\\Local\\\\Temp\\\\tmp09l4d42q', '_tf_random_seed': None, '_save_summary_steps': 100, '_save_checkpoints_steps': None, '_save_checkpoints_secs': 600, '_session_config': None, '_keep_checkpoint_max': 5, '_keep_checkpoint_every_n_hours': 10000, '_log_step_count_steps': 100, '_train_distribute': None, '_device_fn': None, '_service': None, '_cluster_spec': <tensorflow.python.training.server_lib.ClusterSpec object at 0x000001E03865AA58>, '_task_type': 'worker', '_task_id': 0, '_global_id_in_cluster': 0, '_master': '', '_evaluation_master': '', '_is_chief': True, '_num_ps_replicas': 0, '_num_worker_replicas': 1}\n"
     ]
    }
   ],
   "source": [
    "model = tf.estimator.DNNRegressor(hidden_units=[6,6,6],feature_columns=feat_cols)"
   ]
  },
  {
   "cell_type": "code",
   "execution_count": 29,
   "metadata": {},
   "outputs": [
    {
     "name": "stdout",
     "output_type": "stream",
     "text": [
      "INFO:tensorflow:Calling model_fn.\n",
      "INFO:tensorflow:Done calling model_fn.\n",
      "INFO:tensorflow:Create CheckpointSaverHook.\n",
      "INFO:tensorflow:Graph was finalized.\n",
      "INFO:tensorflow:Running local_init_op.\n",
      "INFO:tensorflow:Done running local_init_op.\n",
      "INFO:tensorflow:Saving checkpoints for 0 into C:\\Users\\Jayuk\\AppData\\Local\\Temp\\tmp09l4d42q\\model.ckpt.\n",
      "INFO:tensorflow:loss = 707155460000.0, step = 0\n",
      "INFO:tensorflow:global_step/sec: 169.807\n",
      "INFO:tensorflow:loss = 286807260000.0, step = 100 (0.590 sec)\n",
      "INFO:tensorflow:global_step/sec: 192.295\n",
      "INFO:tensorflow:loss = 832843900000.0, step = 200 (0.521 sec)\n",
      "INFO:tensorflow:global_step/sec: 197.217\n",
      "INFO:tensorflow:loss = 490933060000.0, step = 300 (0.507 sec)\n",
      "INFO:tensorflow:global_step/sec: 199.177\n",
      "INFO:tensorflow:loss = 392430350000.0, step = 400 (0.501 sec)\n",
      "INFO:tensorflow:global_step/sec: 203.011\n",
      "INFO:tensorflow:loss = 629000600000.0, step = 500 (0.494 sec)\n",
      "INFO:tensorflow:global_step/sec: 199.773\n",
      "INFO:tensorflow:loss = 512653660000.0, step = 600 (0.499 sec)\n",
      "INFO:tensorflow:global_step/sec: 149.308\n",
      "INFO:tensorflow:loss = 335303150000.0, step = 700 (0.672 sec)\n",
      "INFO:tensorflow:global_step/sec: 197.996\n",
      "INFO:tensorflow:loss = 362625140000.0, step = 800 (0.504 sec)\n",
      "INFO:tensorflow:global_step/sec: 198.388\n",
      "INFO:tensorflow:loss = 517191300000.0, step = 900 (0.504 sec)\n",
      "INFO:tensorflow:global_step/sec: 201.581\n",
      "INFO:tensorflow:loss = 88886970000.0, step = 1000 (0.497 sec)\n",
      "INFO:tensorflow:global_step/sec: 198.388\n",
      "INFO:tensorflow:loss = 258128580000.0, step = 1100 (0.503 sec)\n",
      "INFO:tensorflow:global_step/sec: 200.371\n",
      "INFO:tensorflow:loss = 430126070000.0, step = 1200 (0.500 sec)\n",
      "INFO:tensorflow:global_step/sec: 198.585\n",
      "INFO:tensorflow:loss = 293147380000.0, step = 1300 (0.504 sec)\n",
      "INFO:tensorflow:global_step/sec: 196.829\n",
      "INFO:tensorflow:loss = 140747420000.0, step = 1400 (0.508 sec)\n",
      "INFO:tensorflow:global_step/sec: 183.491\n",
      "INFO:tensorflow:loss = 287248420000.0, step = 1500 (0.545 sec)\n",
      "INFO:tensorflow:global_step/sec: 200.974\n",
      "INFO:tensorflow:loss = 162257500000.0, step = 1600 (0.499 sec)\n",
      "INFO:tensorflow:global_step/sec: 197.217\n",
      "INFO:tensorflow:loss = 114573720000.0, step = 1700 (0.506 sec)\n",
      "INFO:tensorflow:global_step/sec: 182.488\n",
      "INFO:tensorflow:loss = 159791250000.0, step = 1800 (0.548 sec)\n",
      "INFO:tensorflow:global_step/sec: 198.192\n",
      "INFO:tensorflow:loss = 149946650000.0, step = 1900 (0.504 sec)\n",
      "INFO:tensorflow:global_step/sec: 199.573\n",
      "INFO:tensorflow:loss = 155911130000.0, step = 2000 (0.503 sec)\n",
      "INFO:tensorflow:global_step/sec: 197.801\n",
      "INFO:tensorflow:loss = 213490780000.0, step = 2100 (0.505 sec)\n",
      "INFO:tensorflow:global_step/sec: 201.176\n",
      "INFO:tensorflow:loss = 122653245000.0, step = 2200 (0.499 sec)\n",
      "INFO:tensorflow:global_step/sec: 193.596\n",
      "INFO:tensorflow:loss = 36086346000.0, step = 2300 (0.518 sec)\n",
      "INFO:tensorflow:global_step/sec: 183.322\n",
      "INFO:tensorflow:loss = 88393230000.0, step = 2400 (0.542 sec)\n",
      "INFO:tensorflow:global_step/sec: 199.574\n",
      "INFO:tensorflow:loss = 135041440000.0, step = 2500 (0.502 sec)\n",
      "INFO:tensorflow:global_step/sec: 197.996\n",
      "INFO:tensorflow:loss = 87594520000.0, step = 2600 (0.506 sec)\n",
      "INFO:tensorflow:global_step/sec: 199.772\n",
      "INFO:tensorflow:loss = 103525630000.0, step = 2700 (0.501 sec)\n",
      "INFO:tensorflow:global_step/sec: 184.335\n",
      "INFO:tensorflow:loss = 127791070000.0, step = 2800 (0.542 sec)\n",
      "INFO:tensorflow:global_step/sec: 197.216\n",
      "INFO:tensorflow:loss = 165737710000.0, step = 2900 (0.507 sec)\n",
      "INFO:tensorflow:global_step/sec: 200.975\n",
      "INFO:tensorflow:loss = 132998430000.0, step = 3000 (0.499 sec)\n",
      "INFO:tensorflow:global_step/sec: 198.388\n",
      "INFO:tensorflow:loss = 50536243000.0, step = 3100 (0.503 sec)\n",
      "INFO:tensorflow:global_step/sec: 200.171\n",
      "INFO:tensorflow:loss = 102606720000.0, step = 3200 (0.500 sec)\n",
      "INFO:tensorflow:global_step/sec: 188.319\n",
      "INFO:tensorflow:loss = 29363829000.0, step = 3300 (0.533 sec)\n",
      "INFO:tensorflow:global_step/sec: 200.373\n",
      "INFO:tensorflow:loss = 127454580000.0, step = 3400 (0.498 sec)\n",
      "INFO:tensorflow:global_step/sec: 200.172\n",
      "INFO:tensorflow:loss = 144869210000.0, step = 3500 (0.500 sec)\n",
      "INFO:tensorflow:global_step/sec: 201.176\n",
      "INFO:tensorflow:loss = 144890280000.0, step = 3600 (0.496 sec)\n",
      "INFO:tensorflow:global_step/sec: 185.187\n",
      "INFO:tensorflow:loss = 73803340000.0, step = 3700 (0.541 sec)\n",
      "INFO:tensorflow:global_step/sec: 196.059\n",
      "INFO:tensorflow:loss = 127108050000.0, step = 3800 (0.510 sec)\n",
      "INFO:tensorflow:global_step/sec: 187.264\n",
      "INFO:tensorflow:loss = 68296040000.0, step = 3900 (0.534 sec)\n",
      "INFO:tensorflow:global_step/sec: 186.046\n",
      "INFO:tensorflow:loss = 85076020000.0, step = 4000 (0.538 sec)\n",
      "INFO:tensorflow:global_step/sec: 199.375\n",
      "INFO:tensorflow:loss = 321970900000.0, step = 4100 (0.500 sec)\n",
      "INFO:tensorflow:global_step/sec: 194.913\n",
      "INFO:tensorflow:loss = 150749250000.0, step = 4200 (0.515 sec)\n",
      "INFO:tensorflow:global_step/sec: 185.874\n",
      "INFO:tensorflow:loss = 208546370000.0, step = 4300 (0.537 sec)\n",
      "INFO:tensorflow:global_step/sec: 181.332\n",
      "INFO:tensorflow:loss = 92233300000.0, step = 4400 (0.553 sec)\n",
      "INFO:tensorflow:global_step/sec: 172.884\n",
      "INFO:tensorflow:loss = 70130700000.0, step = 4500 (0.579 sec)\n",
      "INFO:tensorflow:global_step/sec: 163.036\n",
      "INFO:tensorflow:loss = 82877550000.0, step = 4600 (0.612 sec)\n",
      "INFO:tensorflow:global_step/sec: 178.584\n",
      "INFO:tensorflow:loss = 102466994000.0, step = 4700 (0.561 sec)\n",
      "INFO:tensorflow:global_step/sec: 185.016\n",
      "INFO:tensorflow:loss = 87479860000.0, step = 4800 (0.539 sec)\n",
      "INFO:tensorflow:global_step/sec: 190.286\n",
      "INFO:tensorflow:loss = 158151440000.0, step = 4900 (0.525 sec)\n",
      "INFO:tensorflow:Saving checkpoints for 5000 into C:\\Users\\Jayuk\\AppData\\Local\\Temp\\tmp09l4d42q\\model.ckpt.\n",
      "INFO:tensorflow:Loss for final step: 102298880000.0.\n"
     ]
    },
    {
     "data": {
      "text/plain": [
       "<tensorflow.python.estimator.canned.dnn.DNNRegressor at 0x1e040e6e630>"
      ]
     },
     "execution_count": 29,
     "metadata": {},
     "output_type": "execute_result"
    }
   ],
   "source": [
    "model.train(input_fn=input_func, steps=5000)"
   ]
  },
  {
   "cell_type": "code",
   "execution_count": 30,
   "metadata": {},
   "outputs": [],
   "source": [
    "predict_input_func = tf.estimator.inputs.pandas_input_fn(\n",
    "    x=X_test,\n",
    "    batch_size=10,\n",
    "    num_epochs=1,\n",
    "    shuffle=False)"
   ]
  },
  {
   "cell_type": "code",
   "execution_count": 31,
   "metadata": {},
   "outputs": [],
   "source": [
    "predictions = model.predict(predict_input_func)"
   ]
  },
  {
   "cell_type": "code",
   "execution_count": 32,
   "metadata": {},
   "outputs": [
    {
     "name": "stdout",
     "output_type": "stream",
     "text": [
      "INFO:tensorflow:Calling model_fn.\n",
      "INFO:tensorflow:Done calling model_fn.\n",
      "INFO:tensorflow:Graph was finalized.\n",
      "INFO:tensorflow:Restoring parameters from C:\\Users\\Jayuk\\AppData\\Local\\Temp\\tmp09l4d42q\\model.ckpt-5000\n",
      "INFO:tensorflow:Running local_init_op.\n",
      "INFO:tensorflow:Done running local_init_op.\n"
     ]
    }
   ],
   "source": [
    "predictions = list(predictions)"
   ]
  },
  {
   "cell_type": "code",
   "execution_count": 33,
   "metadata": {},
   "outputs": [],
   "source": [
    "final_preds = []\n",
    "for pred in predictions:\n",
    "    final_preds.append(pred['predictions'])"
   ]
  },
  {
   "cell_type": "code",
   "execution_count": 34,
   "metadata": {},
   "outputs": [],
   "source": [
    "from sklearn.metrics import mean_squared_error"
   ]
  },
  {
   "cell_type": "code",
   "execution_count": 35,
   "metadata": {},
   "outputs": [
    {
     "data": {
      "text/plain": [
       "105772.51138140228"
      ]
     },
     "execution_count": 35,
     "metadata": {},
     "output_type": "execute_result"
    }
   ],
   "source": [
    "mean_squared_error(y_test,final_preds)**0.5"
   ]
  },
  {
   "cell_type": "code",
   "execution_count": null,
   "metadata": {},
   "outputs": [],
   "source": []
  },
  {
   "cell_type": "code",
   "execution_count": null,
   "metadata": {},
   "outputs": [],
   "source": []
  },
  {
   "cell_type": "code",
   "execution_count": null,
   "metadata": {},
   "outputs": [],
   "source": []
  }
 ],
 "metadata": {
  "kernelspec": {
   "display_name": "Python 3",
   "language": "python",
   "name": "python3"
  },
  "language_info": {
   "codemirror_mode": {
    "name": "ipython",
    "version": 3
   },
   "file_extension": ".py",
   "mimetype": "text/x-python",
   "name": "python",
   "nbconvert_exporter": "python",
   "pygments_lexer": "ipython3",
   "version": "3.6.5"
  }
 },
 "nbformat": 4,
 "nbformat_minor": 2
}
